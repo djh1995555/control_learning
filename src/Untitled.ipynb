{
 "cells": [
  {
   "cell_type": "code",
   "execution_count": 34,
   "id": "b7659d5d",
   "metadata": {},
   "outputs": [
    {
     "name": "stdout",
     "output_type": "stream",
     "text": [
      "[[[-0.28 -0.28 -0.27 ... -0.03 -0.04 -0.04]\n",
      "  [-0.11 -0.11 -0.11 ...  0.06  0.06  0.08]\n",
      "  [ 0.41  0.42  0.43 ... -0.01  0.    0.03]\n",
      "  [ 0.59  0.59  0.58 ...  0.04  0.04  0.03]]\n",
      "\n",
      " [[-0.13 -0.1  -0.09 ... -0.13 -0.16 -0.18]\n",
      "  [-0.09 -0.09 -0.07 ... -0.05 -0.08 -0.12]\n",
      "  [ 0.05  0.08  0.11 ... -0.14 -0.15 -0.15]\n",
      "  [-0.15 -0.09 -0.07 ... -0.1  -0.1  -0.04]]\n",
      "\n",
      " [[-0.01 -0.01 -0.02 ...  0.    0.    0.  ]\n",
      "  [ 0.13  0.13  0.15 ...  0.04  0.03  0.05]\n",
      "  [-0.11 -0.1  -0.11 ... -0.13 -0.13 -0.13]\n",
      "  [-0.07 -0.06 -0.07 ... -0.19 -0.17 -0.17]]\n",
      "\n",
      " ...\n",
      "\n",
      " [[ 0.2   0.21  0.24 ... -0.71 -0.74 -0.77]\n",
      "  [-0.01  0.    0.   ...  1.04  1.08  1.06]\n",
      "  [-0.22 -0.22 -0.23 ...  1.66  1.72  1.7 ]\n",
      "  [ 0.4   0.42  0.41 ... -1.39 -1.43 -1.44]]\n",
      "\n",
      " [[ 0.37  0.39  0.4  ... -0.07 -0.09 -0.1 ]\n",
      "  [-0.05 -0.04 -0.04 ... -0.13 -0.14 -0.15]\n",
      "  [-0.58 -0.57 -0.58 ...  0.01  0.    0.01]\n",
      "  [-0.6  -0.61 -0.64 ...  0.17  0.17  0.18]]\n",
      "\n",
      " [[-0.17 -0.17 -0.17 ... -0.33 -0.33 -0.32]\n",
      "  [ 0.13  0.19  0.22 ... -2.51 -2.47 -2.41]\n",
      "  [-0.15 -0.19 -0.22 ...  3.6   3.55  3.49]\n",
      "  [-0.05 -0.03  0.   ... -4.71 -4.64 -4.56]]]\n",
      "['standing' 'standing' 'standing' 'standing' 'walking' 'walking' 'walking'\n",
      " 'walking' 'jumping' 'jumping' 'jumping' 'jumping' 'standing' 'standing'\n",
      " 'standing' 'standing' 'standing' 'walking' 'walking' 'walking' 'walking'\n",
      " 'walking' 'jumping' 'jumping' 'jumping' 'jumping' 'jumping']\n",
      "(27, 4, 2500)\n",
      "(27,)\n",
      "<class 'numpy.ndarray'>\n",
      "(27, 2500, 4)\n"
     ]
    }
   ],
   "source": [
    "from aeon.datasets import load_classification\n",
    "X,Y = load_classification(\"StandWalkJump\")\n",
    "print(X)\n",
    "print(Y)\n",
    "print(X.shape)\n",
    "print(Y.shape)\n",
    "print(type(Y))\n",
    "new_x = X.transpose(0,2,1)\n",
    "print(new_x.shape)"
   ]
  },
  {
   "cell_type": "code",
   "execution_count": 39,
   "id": "6109f508",
   "metadata": {},
   "outputs": [
    {
     "name": "stdout",
     "output_type": "stream",
     "text": [
      "(100, 5, 4)\n",
      "(100,)\n",
      "第一部分数据:\n",
      "X_part1 shape: (10, 5, 4)\n",
      "Y_part1 shape: (10,)\n",
      "\n",
      "第二部分数据:\n",
      "X_part2 shape: (90, 5, 4)\n",
      "Y_part2 shape: (90,)\n",
      "[0 1 2 3 4 5 6 7 8 9]\n"
     ]
    }
   ],
   "source": [
    "import numpy as np\n",
    "\n",
    "# 示例数据\n",
    "X = np.random.rand(100, 5, 4)  # 假设 X 是一个形状为 (100, 5, 4) 的三维数组\n",
    "Y = np.random.randint(0, 10, 100)  # 假设标签范围在 0 到 9 之间\n",
    "print(X.shape)\n",
    "print(Y.shape)\n",
    "N = 1\n",
    "# 获取每种标签的索引\n",
    "unique_labels, label_counts = np.unique(Y, return_counts=True)\n",
    "\n",
    "# 初始化用于存储的容器\n",
    "X_part1 = []\n",
    "Y_part1 = []\n",
    "X_part2 = []\n",
    "Y_part2 = []\n",
    "\n",
    "# 分别对每种标签进行处理\n",
    "for label in unique_labels:\n",
    "    # 获取当前标签的索引\n",
    "    indices = np.where(Y == label)[0]\n",
    "    \n",
    "    # 随机挑选 N 个样本\n",
    "    selected_indices = np.random.choice(indices, N, replace=False)\n",
    "    \n",
    "    # 将这些样本分配给第一部分，其余分配给第二部分\n",
    "    X_part1.extend(X[selected_indices])\n",
    "    Y_part1.extend(Y[selected_indices])\n",
    "    X_part2.extend(X[np.setdiff1d(indices, selected_indices)])\n",
    "    Y_part2.extend(Y[np.setdiff1d(indices, selected_indices)])\n",
    "\n",
    "# 转换为 NumPy 数组\n",
    "X_part1 = np.array(X_part1)\n",
    "Y_part1 = np.array(Y_part1)\n",
    "X_part2 = np.array(X_part2)\n",
    "Y_part2 = np.array(Y_part2)\n",
    "\n",
    "print(\"第一部分数据:\")\n",
    "print(\"X_part1 shape:\", X_part1.shape)\n",
    "print(\"Y_part1 shape:\", Y_part1.shape)\n",
    "\n",
    "print(\"\\n第二部分数据:\")\n",
    "print(\"X_part2 shape:\", X_part2.shape)\n",
    "print(\"Y_part2 shape:\", Y_part2.shape)\n",
    "print(Y_part1)\n"
   ]
  },
  {
   "cell_type": "code",
   "execution_count": null,
   "id": "990593f6",
   "metadata": {},
   "outputs": [],
   "source": []
  }
 ],
 "metadata": {
  "kernelspec": {
   "display_name": "pytorch",
   "language": "python",
   "name": "pytorch"
  },
  "language_info": {
   "codemirror_mode": {
    "name": "ipython",
    "version": 3
   },
   "file_extension": ".py",
   "mimetype": "text/x-python",
   "name": "python",
   "nbconvert_exporter": "python",
   "pygments_lexer": "ipython3",
   "version": "3.8.18"
  }
 },
 "nbformat": 4,
 "nbformat_minor": 5
}
